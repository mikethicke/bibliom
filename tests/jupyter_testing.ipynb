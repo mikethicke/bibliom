{
 "cells": [
  {
   "cell_type": "code",
   "execution_count": 12,
   "metadata": {},
   "outputs": [
    {
     "data": {
      "text/plain": [
       "Database Name  : test_db\n",
       "Database User  : eccs\n",
       "Tables         : author, citation, journal, modularity_class, modularity_measure, network, network_edges, paper, paper_author, paper_keyword, paper_modularity_class (11 total)"
      ]
     },
     "execution_count": 12,
     "metadata": {},
     "output_type": "execute_result"
    }
   ],
   "source": [
    "import bibliom as bm\n",
    "manager = bm.DBManager.get_manager()\n",
    "manager"
   ]
  },
  {
   "cell_type": "code",
   "execution_count": 13,
   "metadata": {},
   "outputs": [
    {
     "data": {
      "text/plain": [
       "Table:          : paper\n",
       "doi             : 10.1089/ars.2017.7361\n",
       "title           : Redox-Sensing Iron-Sulfur Cluster Regulators\n",
       "publication_date: 2018-12-01\n",
       "abstract        : Significance: Iron-sulfur cluster proteins carr...\n",
       "idjournal       : 1\n",
       "idpaper         : 1\n",
       "first_page      : 1809\n",
       "last_page       : 1829\n",
       "cited_records   : Achebach S, 2005, FEBS J, V272, P4260, DOI 10.1...\n",
       "wos_identifier  : WOS:000414630900001\n",
       "total_citations : 1\n",
       "citation_record : FN Clarivate Analytics Web of Science VR 1.0 PT..."
      ]
     },
     "execution_count": 13,
     "metadata": {},
     "output_type": "execute_result"
    }
   ],
   "source": [
    "p = bm.Paper.fetch(doi='NOT NULL')\n",
    "p"
   ]
  },
  {
   "cell_type": "code",
   "execution_count": 14,
   "metadata": {},
   "outputs": [
    {
     "data": {
      "text/plain": [
       "True"
      ]
     },
     "execution_count": 14,
     "metadata": {},
     "output_type": "execute_result"
    }
   ],
   "source": [
    "isinstance(p, bm.Paper)"
   ]
  },
  {
   "cell_type": "code",
   "execution_count": 15,
   "metadata": {},
   "outputs": [
    {
     "data": {
      "text/plain": [
       "[Table:     : author\n",
       " idauthor   : 1\n",
       " given_names: JC\n",
       " last_name  : Crack, Table:     : author\n",
       " idauthor   : 2\n",
       " given_names: NE\n",
       " last_name  : Le Brun]"
      ]
     },
     "execution_count": 15,
     "metadata": {},
     "output_type": "execute_result"
    }
   ],
   "source": [
    "p.authors"
   ]
  },
  {
   "cell_type": "code",
   "execution_count": 3,
   "metadata": {},
   "outputs": [
    {
     "data": {
      "text/plain": [
       "Table Name  : paper\n",
       "Total Rows  : 26832\n",
       "Cached Rows : 26775\n",
       "Fields:\n",
       "   doi             : varchar(150)    Unique\n",
       "   title           : varchar(1000)   \n",
       "   publication_date: date            \n",
       "   abstract        : text            \n",
       "   open_access     : tinyint(1)      \n",
       "   url             : varchar(2083)   \n",
       "   idjournal       : int(11)         \n",
       "   idpaper         : int(11)         Primary Key\n",
       "   first_page      : varchar(10)     \n",
       "   last_page       : varchar(10)     \n",
       "   time_added      : datetime        \n",
       "   content         : longtext        \n",
       "   cited_records   : longtext        \n",
       "   wos_identifier  : varchar(150)    Unique\n",
       "   total_citations : int(11)         \n",
       "   citation_record : longtext        \n",
       "   retracted_year  : year(4)         \n",
       "   citation_history: text            "
      ]
     },
     "execution_count": 3,
     "metadata": {},
     "output_type": "execute_result"
    }
   ],
   "source": [
    "paper_table = bm.DBTable.get_table_object('paper')\n",
    "paper_table"
   ]
  },
  {
   "cell_type": "code",
   "execution_count": 16,
   "metadata": {},
   "outputs": [
    {
     "data": {
      "text/plain": [
       "Database Name  : test_db\n",
       "Database User  : eccs\n",
       "Tables         : author, citation, journal, modularity_class, modularity_measure, network, network_edges, paper, paper_author, paper_keyword, paper_modularity_class (11 total)"
      ]
     },
     "execution_count": 16,
     "metadata": {},
     "output_type": "execute_result"
    }
   ],
   "source": [
    "manager"
   ]
  },
  {
   "cell_type": "code",
   "execution_count": 4,
   "metadata": {},
   "outputs": [
    {
     "data": {
      "text/plain": [
       "Table:          : paper\n",
       "doi             : 10.1089/ars.2017.7361\n",
       "title           : Redox-Sensing Iron-Sulfur Cluster Regulators\n",
       "publication_date: 2018-12-01\n",
       "abstract        : Significance: Iron-sulfur cluster proteins carr...\n",
       "idjournal       : 1\n",
       "idpaper         : 1\n",
       "first_page      : 1809\n",
       "last_page       : 1829\n",
       "cited_records   : Achebach S, 2005, FEBS J, V272, P4260, DOI 10.1...\n",
       "wos_identifier  : WOS:000414630900001\n",
       "total_citations : 1\n",
       "citation_record : FN Clarivate Analytics Web of Science VR 1.0 PT..."
      ]
     },
     "execution_count": 4,
     "metadata": {},
     "output_type": "execute_result"
    }
   ],
   "source": [
    "p = bm.Paper.fetch(where_dict={'doi':'10.1089/ars.2017.7361'})\n",
    "p"
   ]
  },
  {
   "cell_type": "code",
   "execution_count": 19,
   "metadata": {},
   "outputs": [],
   "source": [
    "manager.close()"
   ]
  },
  {
   "cell_type": "code",
   "execution_count": 18,
   "metadata": {},
   "outputs": [],
   "source": [
    "manager.connect()"
   ]
  },
  {
   "cell_type": "code",
   "execution_count": 5,
   "metadata": {},
   "outputs": [
    {
     "data": {
      "text/plain": [
       "Table:          : paper"
      ]
     },
     "execution_count": 5,
     "metadata": {},
     "output_type": "execute_result"
    }
   ],
   "source": [
    "p = bm.Paper(doi='NOT NULL')\n",
    "p"
   ]
  },
  {
   "cell_type": "code",
   "execution_count": 6,
   "metadata": {},
   "outputs": [
    {
     "name": "stdout",
     "output_type": "stream",
     "text": [
      "doi                  title                publication_date    abstract             open_access    url      idjournal    idpaper    first_page    last_page  time_added    content    cited_records        wos_identifier         total_citations  citation_record      retracted_year    citation_history\n",
      "-------------------  -------------------  ------------------  -------------------  -------------  -----  -----------  ---------  ------------  -----------  ------------  ---------  -------------------  -------------------  -----------------  -------------------  ----------------  ------------------\n",
      "10.1089/ars.2017...  Redox-Sensing Iro..  2018-12-01          Significance: Iro..  None           None             1          1          1809         1829  None          None       Achebach S, 2005,..  WOS:000414630900001                  1  FN Clarivate Anal..  None              None\n"
     ]
    },
    {
     "data": {
      "text/plain": [
       "{'idpaper%%1': {'doi': '10.1089/ars.2017.7361',\n",
       "  'title': 'Redox-Sensing Iron-Sulfur Cluster Regulators',\n",
       "  'publication_date': datetime.date(2018, 12, 1),\n",
       "  'abstract': 'Significance: Iron-sulfur cluster proteins carry out multiple functions, including as regulators of gene transcription/translation in response to environmental stimuli. In all known cases, the cluster acts as the sensory module, where the inherent reactivity/fragility of iron-sulfur clusters with small/redox-active molecules is exploited to effect conformational changes that modulate binding to DNA regulatory sequences. This promotes an often substantial reprogramming of the cellular proteome that enables the organism or cell to adapt to, or counteract, its changing circumstances.\\nRecent Advances: Significant progress has been made recently in the structural and mechanistic characterization of iron-sulfur cluster regulators and, in particular, the O-2 and NO sensor FNR, the NO sensor NsrR, and WhiB-like proteins of Actinobacteria. These are the main focus of this review.\\nCritical Issues: Striking examples of how the local environment controls the cluster sensitivity and reactivity are now emerging, but the basis for this is not yet fully understood for any regulatory family.\\nFuture Directions: Characterization of iron-sulfur cluster regulators has long been hampered by a lack of high-resolution structural data. Although this still presents a major future challenge, recent advances now provide a firm foundation for detailed understanding of how a signal is transduced to effect gene regulation. This requires the identification of often unstable intermediate species, which are difficult to detect and may be hard to distinguish using traditional techniques. Novel approaches will be required to solve these problems. Antioxid. Redox Signal. 00, 000-000.',\n",
       "  'open_access': None,\n",
       "  'url': None,\n",
       "  'idjournal': 1,\n",
       "  'idpaper': 1,\n",
       "  'first_page': '1809',\n",
       "  'last_page': '1829',\n",
       "  'time_added': None,\n",
       "  'content': None,\n",
       "  'cited_records': 'Achebach S, 2005, FEBS J, V272, P4260, DOI 10.1111/j.1742-4658.2005.04840.x;Alam MS, 2009, FEBS J, V276, P76, DOI 10.1111/j.1742-4658.2008.06755.x;Altschul SF, 1997, NUCLEIC ACIDS RES, V25, P3389, DOI 10.1093/nar/25.17.3389;Bailey S, 2012, NAT CHEM BIOL, V8, P24, DOI 10.1038/nchembio.737;Bartolini E, 2006, MOL MICROBIOL, V60, P963, DOI 10.1111/j.1365-2958.2006.05163.x;Bates DM, 2000, J BIOL CHEM, V275, P6234, DOI 10.1074/jbc.275.9.6234;BATES DM, 1995, J BACTERIOL, V177, P3972, DOI 10.1128/jb.177.14.3972-3978.1995;Becker S, 1996, J BACTERIOL, V178, P4515, DOI 10.1128/jb.178.15.4515-4521.1996;Beinert H, 1997, SCIENCE, V277, P653, DOI 10.1126/science.277.5326.653;Beinert H, 1996, CHEM REV, V96, P2335, DOI 10.1021/cr950040z;Benjamin JAM, 2014, NUCLEIC ACIDS RES, V42, P10023, DOI 10.1093/nar/gku649;Bergaust L, 2012, MICROBIOL-SGM, V158, P826, DOI 10.1099/mic.0.054148-0;Bian SM, 1999, COORDIN CHEM REV, V190, P1049, DOI 10.1016/S0010-8545(99)00157-5;Bouton C, 1998, J BIOL CHEM, V273, P9403, DOI 10.1074/jbc.273.16.9403;Bradley TM, 1997, NUCLEIC ACIDS RES, V25, P1469, DOI 10.1093/nar/25.8.1469;Brereton PS, 1999, BIOCHEMISTRY-US, V38, P10594, DOI 10.1021/bi990671d;Burian J, 2013, NUCLEIC ACIDS RES, V41, P10062, DOI 10.1093/nar/gkt751;Burian J, 2012, EXPERT REV ANTI-INFE, V10, P1037, DOI [10.1586/ERI.12.90, 10.1586/eri.12.90];BUS JS, 1984, ENVIRON HEALTH PERSP, V55, P37, DOI 10.2307/3429690;Bush MJ, 2016, MBIO, V7, DOI 10.1128/mBio.00523-16;BUTLER AR, 1988, ADV INORG CHEM, V32, P335, DOI 10.1016/S0898-8838(08)60235-4;Casonato S, 2012, INFECT IMMUN, V80, P3132, DOI 10.1128/IAI.06328-11;Chen ZK, 2016, CELL REP, V16, P2512, DOI 10.1016/j.celrep.2016.07.080;Crack J, 2004, J BIOL CHEM, V279, P9278, DOI 10.1074/jbc.M309878200;Crack JC, 2008, J AM CHEM SOC, V130, P1749, DOI 10.1021/ja077455+;Crack JC, 2007, P NATL ACAD SCI USA, V104, P2092, DOI 10.1073/pnas.0609514104;Crack JC, 2017, P NATL ACAD SCI USA, V114, pE3215, DOI 10.1073/pnas.1620987114;Crack JC, 2016, J BIOL CHEM, V291, P8663, DOI 10.1074/jbc.M115.693192;Crack JC, 2016, J BIOL INORG CHEM, V21, P71, DOI 10.1007/s00775-015-1326-7;Crack JC, 2015, J BIOL CHEM, V290, P12689, DOI 10.1074/jbc.M115.643072;Crack JC, 2013, J BIOL CHEM, V288, P11492, DOI 10.1074/jbc.M112.439901;Crack JC, 2012, ANTIOXID REDOX SIGN, V17, P1215, DOI 10.1089/ars.2012.4511;Crack JC, 2011, J AM CHEM SOC, V133, P1112, DOI 10.1021/ja109581t;DAVIS NK, 1992, MOL GEN GENET, V232, P351;den Hengst CD, 2008, BBA-GEN SUBJECTS, V1780, P1201, DOI 10.1016/j.bbagen.2008.01.008;Dibden DP, 2005, MICROBIOL-SGM, V151, P4063, DOI 10.1099/mic.0.28253-0;Ding HG, 2000, P NATL ACAD SCI USA, V97, P5146, DOI 10.1073/pnas.97.10.5146;Dunn AK, 2010, MOL MICROBIOL, V77, P44, DOI 10.1111/j.1365-2958.2010.07194.x;Dupuy J, 2006, STRUCTURE, V14, P129, DOI 10.1016/j.str.2005.09.009;Edwards J, 2010, J BIOL CHEM, V285, P1105, DOI 10.1074/jbc.M109.057810;Eriksson S, 2003, MOL MICROBIOL, V47, P103, DOI 10.1046/j.1365-2958.2003.03313.x;Ermler U, 1995, EMBO J, V14, P6067, DOI 10.1002/j.1460-2075.1995.tb00297.x;Facey PD, 2011, PLOS ONE, V6, DOI 10.1371/journal.pone.0025593;Fang FC, 1997, INFECT IMMUN, V65, P5371;Fedtke I, 2002, J BACTERIOL, V184, P6624, DOI 10.1128/JB.184.23.6624-6634.2002;Filenko N, 2007, J BACTERIOL, V189, P4410, DOI 10.1128/JB.00080-07;Fink RC, 2007, J BACTERIOL, V189, P2262, DOI 10.1128/JB.00726-06;Flatley J, 2005, J BIOL CHEM, V280, P10065, DOI 10.1074/jbc.M410393200;Fleischhacker AS, 2012, BIOCHEMISTRY-US, V51, P4453, DOI 10.1021/bi3003204;Frazao C, 2008, FEBS LETT, V582, P763, DOI 10.1016/j.febslet.2008.01.041;Fujikawa M, 2014, J BIOCHEM, V156, P163, DOI 10.1093/jb/mvu029;Gallegos MT, 1997, MICROBIOL MOL BIOL R, V61, P393;Garg S, 2009, BMC BIOCHEM, V10, DOI 10.1186/1471-2091-10-1;Garg SK, 2007, PROTEIN EXPRES PURIF, V52, P422, DOI 10.1016/j.pep.2006.10.015;Gaudu P, 2000, J BACTERIOL, V182, P1761, DOI 10.1128/JB.182.6.1761-1763.2000;Gilberthorpe NJ, 2007, MICROBIOL-SGM, V153, P1756, DOI 10.1099/mic.0.2006/003731-0;Gorbunov Konstantin Y., 2010, In Silico Biology, V10, P163, DOI 10.3233/ISB-2010-0425;Gorodetsky AA, 2008, P NATL ACAD SCI USA, V105, P3684, DOI 10.1073/pnas.0800093105;GREEN J, 1993, MOL MICROBIOL, V8, P61, DOI 10.1111/j.1365-2958.1993.tb01203.x;Gruner I, 2011, J BIOL CHEM, V286, P2017, DOI 10.1074/jbc.M110.191940;Gu MZ, 2011, MOL MICROBIOL, V79, P1136, DOI 10.1111/j.1365-2958.2010.07520.x;GUEST JR, 1992, J GEN MICROBIOL, V138, P2253, DOI 10.1099/00221287-138-11-2253;Guest JR, 1995, PHILOS T R SOC B, V350, P189, DOI 10.1098/rstb.1995.0152;Gusarov I, 2008, J BIOL CHEM, V283, P13140, DOI 10.1074/jbc.M710178200;Gusarov I, 2009, SCIENCE, V325, P1380, DOI 10.1126/science.1175439;Hartig E, 2012, ADV MICROB PHYSIOL, V61, P195, DOI 10.1016/B978-0-12-394423-8.00005-6;Harel A, 2014, P NATL ACAD SCI USA, V111, P7042, DOI 10.1073/pnas.1403676111;Hunsicker-Wang LM, 2003, BIOCHEMISTRY-US, V42, P7303, DOI 10.1021/bi0342719;Hutchings MI, 2002, J BACTERIOL, V184, P503, DOI 10.1128/JB.184.2.503-508.2002;Imlay JA, 2008, ANNU REV BIOCHEM, V77, P755, DOI 10.1146/annurev.biochem.77.061606.161055;Jakimowicz P, 2005, J BIOL CHEM, V280, P8309, DOI 10.1074/jbc.M412622200;Jervis AJ, 2009, P NATL ACAD SCI USA, V106, P4659, DOI 10.1073/pnas.0804943106;Johnson KA, 2000, ANAL CHEM, V72, P1410, DOI 10.1021/ac991183e;Johnson MK, 1998, CURR OPIN CHEM BIOL, V2, P173, DOI 10.1016/S1367-5931(98)80058-6;Jordan PA, 1999, BIOCHEM J, V344, P739, DOI 10.1042/0264-6021:3440739;Jung JY, 2013, INFECT IMMUN, V81, P3198, DOI 10.1128/IAI.00611-13;Kaiser BK, 2011, SCI REP-UK, V1, DOI 10.1038/srep00156;Kaiser BK, 2009, STRUCTURE, V17, P1368, DOI 10.1016/j.str.2009.08.008;Kakuta Y, 2001, BIOCHEMISTRY-US, V40, P11007, DOI 10.1021/bi010544t;Kamps A, 2004, MOL MICROBIOL, V52, P713, DOI 10.1111/j.1365-2958.2004.04024.x;Karlinsey JE, 2012, MOL MICROBIOL, V85, P1179, DOI 10.1111/j.1365-2958.2012.08167.x;Karp P. D., 2014, ECOSAL PLUS, V6, P1;Kennedy MC, 1997, J BIOL CHEM, V272, P20340, DOI 10.1074/jbc.272.33.20340;Khoroshilova N, 1997, P NATL ACAD SCI USA, V94, P6087, DOI 10.1073/pnas.94.12.6087;KHOROSHILOVA N, 1995, P NATL ACAD SCI USA, V92, P2499, DOI 10.1073/pnas.92.7.2499;Kiley PJ, 2003, CURR OPIN MICROBIOL, V6, P181, DOI 10.1016/S1369-5274(03)00039-0;Kiley PJ, 1998, FEMS MICROBIOL REV, V22, P341, DOI 10.1111/j.1574-6976.1998.tb00375.x;KILEY PJ, 1991, J BACTERIOL, V173, P16, DOI 10.1128/jb.173.1.16-22.1991;Kobayashi K, 2015, BIOCHEMISTRY-US, V54, P334, DOI 10.1021/bi500931w;Kommineni S, 2012, J BACTERIOL, V194, P1679, DOI 10.1128/JB.06486-11;Kommineni S, 2010, MOL MICROBIOL, V78, P1280, DOI 10.1111/j.1365-2958.2010.07407.x;Konar M, 2012, FEBS J, V279, P2781, DOI 10.1111/j.1742-4658.2012.08662.x;Koo MS, 2003, EMBO J, V22, P2614, DOI 10.1093/emboj/cdg252;Krapp AR, 2011, MICROBIOL-SGM, V157, P957, DOI 10.1099/mic.0.039461-0;Krieglstein CF, 2001, J EXP MED, V194, P1207, DOI 10.1084/jem.194.9.1207;Kwon HJ, 2000, NAT STRUCT BIOL, V7, P424;Lancaster KM, 2011, SCIENCE, V334, P974, DOI 10.1126/science.1206445;Larsson C, 2012, PLOS ONE, V7, DOI 10.1371/journal.pone.0037516;Laver JR, 2010, FASEB J, V24, P286, DOI 10.1096/fj.08-128330;Lazazzera BA, 1996, J BIOL CHEM, V271, P2762, DOI 10.1074/jbc.271.5.2762;LAZAZZERA BA, 1993, GENE DEV, V7, P1993, DOI 10.1101/gad.7.10.1993;Lee Y, 2016, CHEM COMMUN, V52, P1174, DOI 10.1039/c5cc07813j;Lee YY, 2006, MICROBIOL-SGM, V152, P1461, DOI 10.1099/mic.0.28796-0;Li LJ, 2016, COORDIN CHEM REV, V306, P678, DOI 10.1016/j.ccr.2015.03.026;Lin JZ, 2007, P NATL ACAD SCI USA, V104, P14640, DOI 10.1073/pnas.0702426104;Lo FC, 2008, J BIOL INORG CHEM, V13, P961, DOI 10.1007/s00775-008-0383-6;Lo FC, 2012, CHEM-EUR J, V18, P2565, DOI 10.1002/chem.201100838;Macomber L, 2009, P NATL ACAD SCI USA, V106, P8344, DOI 10.1073/pnas.0812808106;Mansy SS, 2002, BIOCHEMISTRY-US, V41, P1195, DOI 10.1021/bi011811y;Marshall FA, 2001, MOL MICROBIOL, V39, P747, DOI 10.1046/j.1365-2958.2001.02262.x;Marteyn B, 2010, NATURE, V465, P355, DOI 10.1038/nature08970;McCollister BD, 2011, ANTIMICROB AGENTS CH, V55, P2189, DOI 10.1128/AAC.01203-10;Mehta M, 2016, J BIOL CHEM, V291, P2888, DOI 10.1074/jbc.M115.684597;Mettert EL, 2005, J MOL BIOL, V354, P220, DOI 10.1016/j.jmb.2005.09.066;Mettert EL, 2008, J MOL BIOL, V384, P798, DOI 10.1016/j.jmb.2008.09.080;Molle V, 2000, J BACTERIOL, V182, P1286, DOI 10.1128/JB.182.5.1286-1295.2000;Moore LJ, 2001, J BIOL CHEM, V276, P45744, DOI 10.1074/jbc.M106569200;Morris RP, 2005, P NATL ACAD SCI USA, V102, P12200, DOI 10.1073/pnas.0505446102;Mullner M, 2008, BIOCHEMISTRY-US, V47, P13921, DOI 10.1021/bi8014086;MUNNOCH JT, 2016, SCI REP UK, V6;Nesbit AD, 2009, J MOL BIOL, V387, P28, DOI 10.1016/j.jmb.2009.01.055;Nicolet Y, 2013, P NATL ACAD SCI USA, V110, P7188, DOI 10.1073/pnas.1302388110;Niemann V, 2014, J MOL BIOL, V426, P1539, DOI 10.1016/j.jmb.2013.12.026;NUNOSHIBA T, 1995, INFECT IMMUN, V63, P794;NUNOSHIBA T, 1993, P NATL ACAD SCI USA, V90, P9993, DOI 10.1073/pnas.90.21.9993;Otten MF, 2001, EUR J BIOCHEM, V268, P2486, DOI 10.1046/j.1432-1327.2001.02131.x;Partridge JD, 2009, MOL MICROBIOL, V73, P680, DOI 10.1111/j.1365-2958.2009.06799.x;Pettersen EF, 2004, J COMPUT CHEM, V25, P1605, DOI 10.1002/jcc.20084;Phillips JD, 1996, BLOOD, V87, P2983;Pomposiello PJ, 2001, TRENDS BIOTECHNOL, V19, P109, DOI 10.1016/S0167-7799(00)01542-0;Poole RK, 2005, BIOCHEM SOC T, V33, P176, DOI 10.1042/BST0330176;Pullan ST, 2007, J BACTERIOL, V189, P1845, DOI 10.1128/JB.01354-05;Raghunand TR, 2006, J BACTERIOL, V188, P6966, DOI 10.1128/JB.00384-06;Rajagopalan S, 2013, NAT STRUCT MOL BIOL, V20, P740, DOI 10.1038/nsmb.2568;Ramon-Garcia S, 2013, J BIOL CHEM, V288, P34514, DOI 10.1074/jbc.M113.516385;Ranquet C, 2007, J BIOL CHEM, V282, P30442, DOI 10.1074/jbc.M702519200;Recalcati S, 2010, ANTIOXID REDOX SIGN, V13, P1593, DOI 10.1089/ars.2009.2983;Reents H, 2006, MOL MICROBIOL, V60, P1432, DOI 10.1111/j.1365-2958.2006.05198.x;Reinhart F, 2008, J BACTERIOL, V190, P879, DOI 10.1128/JB.01374-07;Richard-Greenblat M, 2015, J BIOL CHEM, V290, P23064, DOI 10.1074/jbc.M115.648642;Rybniker J, 2010, MOL MICROBIOL, V77, P642, DOI 10.1111/j.1365-2958.2010.07235.x;Saini V, 2016, CELL REP, V14, P572, DOI 10.1016/j.celrep.2015.12.056;Saini V, 2012, ANTIOXID REDOX SIGN, V16, P687, DOI 10.1089/ars.2011.4341;Sasaki Y, 2016, SCI REP-UK, V6, DOI 10.1038/srep22038;Schwartz CJ, 2000, P NATL ACAD SCI USA, V97, P9009, DOI 10.1073/pnas.160261497;Serrano PN, 2016, ANGEW CHEM INT EDIT, V55, P14575, DOI 10.1002/anie.201607033;Shepard W, 2011, FEBS J, V278, P2689, DOI 10.1111/j.1742-4658.2011.08195.x;Shin JH, 2011, J BACTERIOL, V193, P75, DOI 10.1128/JB.00965-10;Shomura Y, 2011, NATURE, V479, P253, DOI 10.1038/nature10504;Siedler S, 2014, ACS SYNTH BIOL, V3, P41, DOI 10.1021/sb400110j;Singh A, 2007, P NATL ACAD SCI USA, V104, P11562, DOI 10.1073/pnas.0700490104;Singh A, 2009, PLOS PATHOG, V5, DOI 10.1371/journal.ppat.1000545;Singh AK, 2013, MOL MICROBIOL, V90, P983, DOI 10.1111/mmi.12410;Smith LJ, 2012, PLOS ONE, V7, DOI 10.1371/journal.pone.0040407;Smith LJ, 2010, BIOCHEM J, V432, P417, DOI 10.1042/BJ20101440;Soliveri JA, 2000, MICROBIOL-SGM, V146, P333, DOI 10.1099/00221287-146-2-333;Spiro S, 2007, FEMS MICROBIOL REV, V31, P193, DOI 10.1111/j.1574-6976.2006.00061.x;Steyn AJC, 2002, P NATL ACAD SCI USA, V99, P3147, DOI 10.1073/pnas.052705399;Stys A, 2011, J BIOL CHEM, V286, P22846, DOI 10.1074/jbc.M111.231902;Sutton VR, 2004, BIOCHEMISTRY-US, V43, P791, DOI 10.1021/bi0357053;Sutton VR, 2004, J BACTERIOL, V186, P8018, DOI 10.1128/JB.186.23.8018-8025.2004;Tang Y, 1999, MICROBIOL-SGM, V145, P3069, DOI 10.1099/00221287-145-11-3069;Tang Y, 2002, MICROBIOL-SGM, V148, P1027, DOI 10.1099/00221287-148-4-1027;Tanous C, 2008, J BIOL CHEM, V283, P35551, DOI 10.1074/jbc.M805951200;Todd JD, 2002, MICROBIOL-SGM, V148, P4059, DOI 10.1099/00221287-148-12-4059;Toledo JC, 2012, CHEM RES TOXICOL, V25, P975, DOI 10.1021/tx300042g;Torres MJ, 2016, ADV MICROB PHYSIOL, V68, P353, DOI 10.1016/bs.ampbs.2016.02.007;Tucker NP, 2008, PLOS ONE, V3, DOI 10.1371/journal.pone.0003623;Unden G, 1997, BBA-BIOENERGETICS, V1320, P217, DOI 10.1016/S0005-2728(97)00034-0;UNDEN G, 1985, EUR J BIOCHEM, V146, P193, DOI 10.1111/j.1432-1033.1985.tb08638.x;Vanin AF, 2017, NITRIC OXIDE-BIOL CH, V66, P1, DOI 10.1016/j.niox.2017.02.005;Vanin AF, 2009, NITRIC OXIDE-BIOL CH, V21, P1, DOI 10.1016/j.niox.2009.03.005;Varghese S, 2003, J BACTERIOL, V185, P221, DOI 10.1128/JB.185.1.221-230.2003;Vergara-Irigaray M, 2014, BMC GENOMICS, V15, DOI 10.1186/1471-2164-15-438;Vine CE, 2011, FEMS MICROBIOL LETT, V325, P99, DOI 10.1111/j.1574-6968.2011.02425.x;Volbeda A, 2017, NAT COMMUN, V8, DOI 10.1038/ncomms15052;Volbeda A, 2015, SCI ADV, V1, DOI 10.1126/sciadv.1501086;Volz K, 2008, CURR OPIN STRUC BIOL, V18, P106, DOI 10.1016/j.sbi.2007.12.010;Walden WE, 2006, SCIENCE, V314, P1903, DOI 10.1126/science.1133116;Wang Y, 2010, J PROTEOME RES, V9, P6665, DOI 10.1021/pr100808n;Watanabe S, 2008, P NATL ACAD SCI USA, V105, P4121, DOI 10.1073/pnas.0709188105;Wink DA, 1998, FREE RADICAL BIO MED, V25, P434, DOI 10.1016/S0891-5849(98)00092-6;Xiong L, 2016, ENVIRON MICROBIOL, V19, P1266;YOO JS, 2016, SCI REP, V6;Yuki ET, 2008, BIOCHEMISTRY-US, V47, P13084, DOI 10.1021/bi801342x;Zhang B, 2012, P NATL ACAD SCI USA, V109, P15734, DOI 10.1073/pnas.1208787109;Zhang DL, 2014, FRONT PHARMACOL, V5, DOI 10.3389/fphar.2014.00124',\n",
       "  'wos_identifier': 'WOS:000414630900001',\n",
       "  'total_citations': 1,\n",
       "  'citation_record': 'FN Clarivate Analytics Web of Science\\nVR 1.0\\nPT J\\nAU Crack, JC\\n   Le Brun, NE\\nAF Crack, Jason C.\\n   Le Brun, Nick E.\\nTI RETRACTED: Redox-Sensing Iron-Sulfur Cluster Regulators (Retracted\\n   article)\\nSO ANTIOXIDANTS & REDOX SIGNALING\\nLA English\\nDT Review; Retracted Publication\\nDE iron-sulfur; DNA regulator; O-2; nitric oxide; redox stress\\nID TRANSCRIPTION FACTOR FNR; MYCOBACTERIUM-TUBERCULOSIS WHIB3; ENTERICA\\n   SEROVAR TYPHIMURIUM; ESCHERICHIA-COLI ACONITASES; NITRIC-OXIDE;\\n   BACILLUS-SUBTILIS; CRYSTAL-STRUCTURE; 4FE-4S CLUSTER; DNA-BINDING;\\n   PARACOCCUS-DENITRIFICANS\\nAB Significance: Iron-sulfur cluster proteins carry out multiple functions, including as regulators of gene transcription/translation in response to environmental stimuli. In all known cases, the cluster acts as the sensory module, where the inherent reactivity/fragility of iron-sulfur clusters with small/redox-active molecules is exploited to effect conformational changes that modulate binding to DNA regulatory sequences. This promotes an often substantial reprogramming of the cellular proteome that enables the organism or cell to adapt to, or counteract, its changing circumstances.\\n   Recent Advances: Significant progress has been made recently in the structural and mechanistic characterization of iron-sulfur cluster regulators and, in particular, the O-2 and NO sensor FNR, the NO sensor NsrR, and WhiB-like proteins of Actinobacteria. These are the main focus of this review.\\n   Critical Issues: Striking examples of how the local environment controls the cluster sensitivity and reactivity are now emerging, but the basis for this is not yet fully understood for any regulatory family.\\n   Future Directions: Characterization of iron-sulfur cluster regulators has long been hampered by a lack of high-resolution structural data. Although this still presents a major future challenge, recent advances now provide a firm foundation for detailed understanding of how a signal is transduced to effect gene regulation. This requires the identification of often unstable intermediate species, which are difficult to detect and may be hard to distinguish using traditional techniques. Novel approaches will be required to solve these problems. Antioxid. Redox Signal. 00, 000-000.\\nRP Le Brun, NE (reprint author), Univ East Anglia, Sch Chem, Ctr Mol & Struct Biochem, Norwich Res Pk, Norwich NR4 7TJ, Norfolk, England.\\nEM n.le-brun@uea.ac.uk\\nRI tucker, troy/N-6542-2016\\nFU U.K. Biotechnology and Biological Sciences Research Council\\n   [BB/J003247/1, BB/L007673/1, BB/K02115X/1]\\nFX Our work on iron-sulfur regulatory proteins has been generously\\n   supported by the U.K. Biotechnology and Biological Sciences Research\\n   Council, most recently through grants BB/J003247/1, BB/L007673/1, and\\n   BB/K02115X/1.\\nCR Achebach S, 2005, FEBS J, V272, P4260, DOI 10.1111/j.1742-4658.2005.04840.x\\n   Alam MS, 2009, FEBS J, V276, P76, DOI 10.1111/j.1742-4658.2008.06755.x\\n   Altschul SF, 1997, NUCLEIC ACIDS RES, V25, P3389, DOI 10.1093/nar/25.17.3389\\n   Bailey S, 2012, NAT CHEM BIOL, V8, P24, DOI 10.1038/nchembio.737\\n   Bartolini E, 2006, MOL MICROBIOL, V60, P963, DOI 10.1111/j.1365-2958.2006.05163.x\\n   Bates DM, 2000, J BIOL CHEM, V275, P6234, DOI 10.1074/jbc.275.9.6234\\n   BATES DM, 1995, J BACTERIOL, V177, P3972, DOI 10.1128/jb.177.14.3972-3978.1995\\n   Becker S, 1996, J BACTERIOL, V178, P4515, DOI 10.1128/jb.178.15.4515-4521.1996\\n   Beinert H, 1997, SCIENCE, V277, P653, DOI 10.1126/science.277.5326.653\\n   Beinert H, 1996, CHEM REV, V96, P2335, DOI 10.1021/cr950040z\\n   Benjamin JAM, 2014, NUCLEIC ACIDS RES, V42, P10023, DOI 10.1093/nar/gku649\\n   Bergaust L, 2012, MICROBIOL-SGM, V158, P826, DOI 10.1099/mic.0.054148-0\\n   Bian SM, 1999, COORDIN CHEM REV, V190, P1049, DOI 10.1016/S0010-8545(99)00157-5\\n   Bouton C, 1998, J BIOL CHEM, V273, P9403, DOI 10.1074/jbc.273.16.9403\\n   Bradley TM, 1997, NUCLEIC ACIDS RES, V25, P1469, DOI 10.1093/nar/25.8.1469\\n   Brereton PS, 1999, BIOCHEMISTRY-US, V38, P10594, DOI 10.1021/bi990671d\\n   Burian J, 2013, NUCLEIC ACIDS RES, V41, P10062, DOI 10.1093/nar/gkt751\\n   Burian J, 2012, EXPERT REV ANTI-INFE, V10, P1037, DOI [10.1586/ERI.12.90, 10.1586/eri.12.90]\\n   BUS JS, 1984, ENVIRON HEALTH PERSP, V55, P37, DOI 10.2307/3429690\\n   Bush MJ, 2016, MBIO, V7, DOI 10.1128/mBio.00523-16\\n   BUTLER AR, 1988, ADV INORG CHEM, V32, P335, DOI 10.1016/S0898-8838(08)60235-4\\n   Casonato S, 2012, INFECT IMMUN, V80, P3132, DOI 10.1128/IAI.06328-11\\n   Chen ZK, 2016, CELL REP, V16, P2512, DOI 10.1016/j.celrep.2016.07.080\\n   Crack J, 2004, J BIOL CHEM, V279, P9278, DOI 10.1074/jbc.M309878200\\n   Crack JC, 2008, J AM CHEM SOC, V130, P1749, DOI 10.1021/ja077455+\\n   Crack JC, 2007, P NATL ACAD SCI USA, V104, P2092, DOI 10.1073/pnas.0609514104\\n   Crack JC, 2017, P NATL ACAD SCI USA, V114, pE3215, DOI 10.1073/pnas.1620987114\\n   Crack JC, 2016, J BIOL CHEM, V291, P8663, DOI 10.1074/jbc.M115.693192\\n   Crack JC, 2016, J BIOL INORG CHEM, V21, P71, DOI 10.1007/s00775-015-1326-7\\n   Crack JC, 2015, J BIOL CHEM, V290, P12689, DOI 10.1074/jbc.M115.643072\\n   Crack JC, 2013, J BIOL CHEM, V288, P11492, DOI 10.1074/jbc.M112.439901\\n   Crack JC, 2012, ANTIOXID REDOX SIGN, V17, P1215, DOI 10.1089/ars.2012.4511\\n   Crack JC, 2011, J AM CHEM SOC, V133, P1112, DOI 10.1021/ja109581t\\n   DAVIS NK, 1992, MOL GEN GENET, V232, P351\\n   den Hengst CD, 2008, BBA-GEN SUBJECTS, V1780, P1201, DOI 10.1016/j.bbagen.2008.01.008\\n   Dibden DP, 2005, MICROBIOL-SGM, V151, P4063, DOI 10.1099/mic.0.28253-0\\n   Ding HG, 2000, P NATL ACAD SCI USA, V97, P5146, DOI 10.1073/pnas.97.10.5146\\n   Dunn AK, 2010, MOL MICROBIOL, V77, P44, DOI 10.1111/j.1365-2958.2010.07194.x\\n   Dupuy J, 2006, STRUCTURE, V14, P129, DOI 10.1016/j.str.2005.09.009\\n   Edwards J, 2010, J BIOL CHEM, V285, P1105, DOI 10.1074/jbc.M109.057810\\n   Eriksson S, 2003, MOL MICROBIOL, V47, P103, DOI 10.1046/j.1365-2958.2003.03313.x\\n   Ermler U, 1995, EMBO J, V14, P6067, DOI 10.1002/j.1460-2075.1995.tb00297.x\\n   Facey PD, 2011, PLOS ONE, V6, DOI 10.1371/journal.pone.0025593\\n   Fang FC, 1997, INFECT IMMUN, V65, P5371\\n   Fedtke I, 2002, J BACTERIOL, V184, P6624, DOI 10.1128/JB.184.23.6624-6634.2002\\n   Filenko N, 2007, J BACTERIOL, V189, P4410, DOI 10.1128/JB.00080-07\\n   Fink RC, 2007, J BACTERIOL, V189, P2262, DOI 10.1128/JB.00726-06\\n   Flatley J, 2005, J BIOL CHEM, V280, P10065, DOI 10.1074/jbc.M410393200\\n   Fleischhacker AS, 2012, BIOCHEMISTRY-US, V51, P4453, DOI 10.1021/bi3003204\\n   Frazao C, 2008, FEBS LETT, V582, P763, DOI 10.1016/j.febslet.2008.01.041\\n   Fujikawa M, 2014, J BIOCHEM, V156, P163, DOI 10.1093/jb/mvu029\\n   Gallegos MT, 1997, MICROBIOL MOL BIOL R, V61, P393\\n   Garg S, 2009, BMC BIOCHEM, V10, DOI 10.1186/1471-2091-10-1\\n   Garg SK, 2007, PROTEIN EXPRES PURIF, V52, P422, DOI 10.1016/j.pep.2006.10.015\\n   Gaudu P, 2000, J BACTERIOL, V182, P1761, DOI 10.1128/JB.182.6.1761-1763.2000\\n   Gilberthorpe NJ, 2007, MICROBIOL-SGM, V153, P1756, DOI 10.1099/mic.0.2006/003731-0\\n   Gorbunov Konstantin Y., 2010, In Silico Biology, V10, P163, DOI 10.3233/ISB-2010-0425\\n   Gorodetsky AA, 2008, P NATL ACAD SCI USA, V105, P3684, DOI 10.1073/pnas.0800093105\\n   GREEN J, 1993, MOL MICROBIOL, V8, P61, DOI 10.1111/j.1365-2958.1993.tb01203.x\\n   Gruner I, 2011, J BIOL CHEM, V286, P2017, DOI 10.1074/jbc.M110.191940\\n   Gu MZ, 2011, MOL MICROBIOL, V79, P1136, DOI 10.1111/j.1365-2958.2010.07520.x\\n   GUEST JR, 1992, J GEN MICROBIOL, V138, P2253, DOI 10.1099/00221287-138-11-2253\\n   Guest JR, 1995, PHILOS T R SOC B, V350, P189, DOI 10.1098/rstb.1995.0152\\n   Gusarov I, 2008, J BIOL CHEM, V283, P13140, DOI 10.1074/jbc.M710178200\\n   Gusarov I, 2009, SCIENCE, V325, P1380, DOI 10.1126/science.1175439\\n   Hartig E, 2012, ADV MICROB PHYSIOL, V61, P195, DOI 10.1016/B978-0-12-394423-8.00005-6\\n   Harel A, 2014, P NATL ACAD SCI USA, V111, P7042, DOI 10.1073/pnas.1403676111\\n   Hunsicker-Wang LM, 2003, BIOCHEMISTRY-US, V42, P7303, DOI 10.1021/bi0342719\\n   Hutchings MI, 2002, J BACTERIOL, V184, P503, DOI 10.1128/JB.184.2.503-508.2002\\n   Imlay JA, 2008, ANNU REV BIOCHEM, V77, P755, DOI 10.1146/annurev.biochem.77.061606.161055\\n   Jakimowicz P, 2005, J BIOL CHEM, V280, P8309, DOI 10.1074/jbc.M412622200\\n   Jervis AJ, 2009, P NATL ACAD SCI USA, V106, P4659, DOI 10.1073/pnas.0804943106\\n   Johnson KA, 2000, ANAL CHEM, V72, P1410, DOI 10.1021/ac991183e\\n   Johnson MK, 1998, CURR OPIN CHEM BIOL, V2, P173, DOI 10.1016/S1367-5931(98)80058-6\\n   Jordan PA, 1999, BIOCHEM J, V344, P739, DOI 10.1042/0264-6021:3440739\\n   Jung JY, 2013, INFECT IMMUN, V81, P3198, DOI 10.1128/IAI.00611-13\\n   Kaiser BK, 2011, SCI REP-UK, V1, DOI 10.1038/srep00156\\n   Kaiser BK, 2009, STRUCTURE, V17, P1368, DOI 10.1016/j.str.2009.08.008\\n   Kakuta Y, 2001, BIOCHEMISTRY-US, V40, P11007, DOI 10.1021/bi010544t\\n   Kamps A, 2004, MOL MICROBIOL, V52, P713, DOI 10.1111/j.1365-2958.2004.04024.x\\n   Karlinsey JE, 2012, MOL MICROBIOL, V85, P1179, DOI 10.1111/j.1365-2958.2012.08167.x\\n   Karp P. D., 2014, ECOSAL PLUS, V6, P1\\n   Kennedy MC, 1997, J BIOL CHEM, V272, P20340, DOI 10.1074/jbc.272.33.20340\\n   Khoroshilova N, 1997, P NATL ACAD SCI USA, V94, P6087, DOI 10.1073/pnas.94.12.6087\\n   KHOROSHILOVA N, 1995, P NATL ACAD SCI USA, V92, P2499, DOI 10.1073/pnas.92.7.2499\\n   Kiley PJ, 2003, CURR OPIN MICROBIOL, V6, P181, DOI 10.1016/S1369-5274(03)00039-0\\n   Kiley PJ, 1998, FEMS MICROBIOL REV, V22, P341, DOI 10.1111/j.1574-6976.1998.tb00375.x\\n   KILEY PJ, 1991, J BACTERIOL, V173, P16, DOI 10.1128/jb.173.1.16-22.1991\\n   Kobayashi K, 2015, BIOCHEMISTRY-US, V54, P334, DOI 10.1021/bi500931w\\n   Kommineni S, 2012, J BACTERIOL, V194, P1679, DOI 10.1128/JB.06486-11\\n   Kommineni S, 2010, MOL MICROBIOL, V78, P1280, DOI 10.1111/j.1365-2958.2010.07407.x\\n   Konar M, 2012, FEBS J, V279, P2781, DOI 10.1111/j.1742-4658.2012.08662.x\\n   Koo MS, 2003, EMBO J, V22, P2614, DOI 10.1093/emboj/cdg252\\n   Krapp AR, 2011, MICROBIOL-SGM, V157, P957, DOI 10.1099/mic.0.039461-0\\n   Krieglstein CF, 2001, J EXP MED, V194, P1207, DOI 10.1084/jem.194.9.1207\\n   Kwon HJ, 2000, NAT STRUCT BIOL, V7, P424\\n   Lancaster KM, 2011, SCIENCE, V334, P974, DOI 10.1126/science.1206445\\n   Larsson C, 2012, PLOS ONE, V7, DOI 10.1371/journal.pone.0037516\\n   Laver JR, 2010, FASEB J, V24, P286, DOI 10.1096/fj.08-128330\\n   Lazazzera BA, 1996, J BIOL CHEM, V271, P2762, DOI 10.1074/jbc.271.5.2762\\n   LAZAZZERA BA, 1993, GENE DEV, V7, P1993, DOI 10.1101/gad.7.10.1993\\n   Lee Y, 2016, CHEM COMMUN, V52, P1174, DOI 10.1039/c5cc07813j\\n   Lee YY, 2006, MICROBIOL-SGM, V152, P1461, DOI 10.1099/mic.0.28796-0\\n   Li LJ, 2016, COORDIN CHEM REV, V306, P678, DOI 10.1016/j.ccr.2015.03.026\\n   Lin JZ, 2007, P NATL ACAD SCI USA, V104, P14640, DOI 10.1073/pnas.0702426104\\n   Lo FC, 2008, J BIOL INORG CHEM, V13, P961, DOI 10.1007/s00775-008-0383-6\\n   Lo FC, 2012, CHEM-EUR J, V18, P2565, DOI 10.1002/chem.201100838\\n   Macomber L, 2009, P NATL ACAD SCI USA, V106, P8344, DOI 10.1073/pnas.0812808106\\n   Mansy SS, 2002, BIOCHEMISTRY-US, V41, P1195, DOI 10.1021/bi011811y\\n   Marshall FA, 2001, MOL MICROBIOL, V39, P747, DOI 10.1046/j.1365-2958.2001.02262.x\\n   Marteyn B, 2010, NATURE, V465, P355, DOI 10.1038/nature08970\\n   McCollister BD, 2011, ANTIMICROB AGENTS CH, V55, P2189, DOI 10.1128/AAC.01203-10\\n   Mehta M, 2016, J BIOL CHEM, V291, P2888, DOI 10.1074/jbc.M115.684597\\n   Mettert EL, 2005, J MOL BIOL, V354, P220, DOI 10.1016/j.jmb.2005.09.066\\n   Mettert EL, 2008, J MOL BIOL, V384, P798, DOI 10.1016/j.jmb.2008.09.080\\n   Molle V, 2000, J BACTERIOL, V182, P1286, DOI 10.1128/JB.182.5.1286-1295.2000\\n   Moore LJ, 2001, J BIOL CHEM, V276, P45744, DOI 10.1074/jbc.M106569200\\n   Morris RP, 2005, P NATL ACAD SCI USA, V102, P12200, DOI 10.1073/pnas.0505446102\\n   Mullner M, 2008, BIOCHEMISTRY-US, V47, P13921, DOI 10.1021/bi8014086\\n   MUNNOCH JT, 2016, SCI REP UK, V6\\n   Nesbit AD, 2009, J MOL BIOL, V387, P28, DOI 10.1016/j.jmb.2009.01.055\\n   Nicolet Y, 2013, P NATL ACAD SCI USA, V110, P7188, DOI 10.1073/pnas.1302388110\\n   Niemann V, 2014, J MOL BIOL, V426, P1539, DOI 10.1016/j.jmb.2013.12.026\\n   NUNOSHIBA T, 1995, INFECT IMMUN, V63, P794\\n   NUNOSHIBA T, 1993, P NATL ACAD SCI USA, V90, P9993, DOI 10.1073/pnas.90.21.9993\\n   Otten MF, 2001, EUR J BIOCHEM, V268, P2486, DOI 10.1046/j.1432-1327.2001.02131.x\\n   Partridge JD, 2009, MOL MICROBIOL, V73, P680, DOI 10.1111/j.1365-2958.2009.06799.x\\n   Pettersen EF, 2004, J COMPUT CHEM, V25, P1605, DOI 10.1002/jcc.20084\\n   Phillips JD, 1996, BLOOD, V87, P2983\\n   Pomposiello PJ, 2001, TRENDS BIOTECHNOL, V19, P109, DOI 10.1016/S0167-7799(00)01542-0\\n   Poole RK, 2005, BIOCHEM SOC T, V33, P176, DOI 10.1042/BST0330176\\n   Pullan ST, 2007, J BACTERIOL, V189, P1845, DOI 10.1128/JB.01354-05\\n   Raghunand TR, 2006, J BACTERIOL, V188, P6966, DOI 10.1128/JB.00384-06\\n   Rajagopalan S, 2013, NAT STRUCT MOL BIOL, V20, P740, DOI 10.1038/nsmb.2568\\n   Ramon-Garcia S, 2013, J BIOL CHEM, V288, P34514, DOI 10.1074/jbc.M113.516385\\n   Ranquet C, 2007, J BIOL CHEM, V282, P30442, DOI 10.1074/jbc.M702519200\\n   Recalcati S, 2010, ANTIOXID REDOX SIGN, V13, P1593, DOI 10.1089/ars.2009.2983\\n   Reents H, 2006, MOL MICROBIOL, V60, P1432, DOI 10.1111/j.1365-2958.2006.05198.x\\n   Reinhart F, 2008, J BACTERIOL, V190, P879, DOI 10.1128/JB.01374-07\\n   Richard-Greenblat M, 2015, J BIOL CHEM, V290, P23064, DOI 10.1074/jbc.M115.648642\\n   Rybniker J, 2010, MOL MICROBIOL, V77, P642, DOI 10.1111/j.1365-2958.2010.07235.x\\n   Saini V, 2016, CELL REP, V14, P572, DOI 10.1016/j.celrep.2015.12.056\\n   Saini V, 2012, ANTIOXID REDOX SIGN, V16, P687, DOI 10.1089/ars.2011.4341\\n   Sasaki Y, 2016, SCI REP-UK, V6, DOI 10.1038/srep22038\\n   Schwartz CJ, 2000, P NATL ACAD SCI USA, V97, P9009, DOI 10.1073/pnas.160261497\\n   Serrano PN, 2016, ANGEW CHEM INT EDIT, V55, P14575, DOI 10.1002/anie.201607033\\n   Shepard W, 2011, FEBS J, V278, P2689, DOI 10.1111/j.1742-4658.2011.08195.x\\n   Shin JH, 2011, J BACTERIOL, V193, P75, DOI 10.1128/JB.00965-10\\n   Shomura Y, 2011, NATURE, V479, P253, DOI 10.1038/nature10504\\n   Siedler S, 2014, ACS SYNTH BIOL, V3, P41, DOI 10.1021/sb400110j\\n   Singh A, 2007, P NATL ACAD SCI USA, V104, P11562, DOI 10.1073/pnas.0700490104\\n   Singh A, 2009, PLOS PATHOG, V5, DOI 10.1371/journal.ppat.1000545\\n   Singh AK, 2013, MOL MICROBIOL, V90, P983, DOI 10.1111/mmi.12410\\n   Smith LJ, 2012, PLOS ONE, V7, DOI 10.1371/journal.pone.0040407\\n   Smith LJ, 2010, BIOCHEM J, V432, P417, DOI 10.1042/BJ20101440\\n   Soliveri JA, 2000, MICROBIOL-SGM, V146, P333, DOI 10.1099/00221287-146-2-333\\n   Spiro S, 2007, FEMS MICROBIOL REV, V31, P193, DOI 10.1111/j.1574-6976.2006.00061.x\\n   Steyn AJC, 2002, P NATL ACAD SCI USA, V99, P3147, DOI 10.1073/pnas.052705399\\n   Stys A, 2011, J BIOL CHEM, V286, P22846, DOI 10.1074/jbc.M111.231902\\n   Sutton VR, 2004, BIOCHEMISTRY-US, V43, P791, DOI 10.1021/bi0357053\\n   Sutton VR, 2004, J BACTERIOL, V186, P8018, DOI 10.1128/JB.186.23.8018-8025.2004\\n   Tang Y, 1999, MICROBIOL-SGM, V145, P3069, DOI 10.1099/00221287-145-11-3069\\n   Tang Y, 2002, MICROBIOL-SGM, V148, P1027, DOI 10.1099/00221287-148-4-1027\\n   Tanous C, 2008, J BIOL CHEM, V283, P35551, DOI 10.1074/jbc.M805951200\\n   Todd JD, 2002, MICROBIOL-SGM, V148, P4059, DOI 10.1099/00221287-148-12-4059\\n   Toledo JC, 2012, CHEM RES TOXICOL, V25, P975, DOI 10.1021/tx300042g\\n   Torres MJ, 2016, ADV MICROB PHYSIOL, V68, P353, DOI 10.1016/bs.ampbs.2016.02.007\\n   Tucker NP, 2008, PLOS ONE, V3, DOI 10.1371/journal.pone.0003623\\n   Unden G, 1997, BBA-BIOENERGETICS, V1320, P217, DOI 10.1016/S0005-2728(97)00034-0\\n   UNDEN G, 1985, EUR J BIOCHEM, V146, P193, DOI 10.1111/j.1432-1033.1985.tb08638.x\\n   Vanin AF, 2017, NITRIC OXIDE-BIOL CH, V66, P1, DOI 10.1016/j.niox.2017.02.005\\n   Vanin AF, 2009, NITRIC OXIDE-BIOL CH, V21, P1, DOI 10.1016/j.niox.2009.03.005\\n   Varghese S, 2003, J BACTERIOL, V185, P221, DOI 10.1128/JB.185.1.221-230.2003\\n   Vergara-Irigaray M, 2014, BMC GENOMICS, V15, DOI 10.1186/1471-2164-15-438\\n   Vine CE, 2011, FEMS MICROBIOL LETT, V325, P99, DOI 10.1111/j.1574-6968.2011.02425.x\\n   Volbeda A, 2017, NAT COMMUN, V8, DOI 10.1038/ncomms15052\\n   Volbeda A, 2015, SCI ADV, V1, DOI 10.1126/sciadv.1501086\\n   Volz K, 2008, CURR OPIN STRUC BIOL, V18, P106, DOI 10.1016/j.sbi.2007.12.010\\n   Walden WE, 2006, SCIENCE, V314, P1903, DOI 10.1126/science.1133116\\n   Wang Y, 2010, J PROTEOME RES, V9, P6665, DOI 10.1021/pr100808n\\n   Watanabe S, 2008, P NATL ACAD SCI USA, V105, P4121, DOI 10.1073/pnas.0709188105\\n   Wink DA, 1998, FREE RADICAL BIO MED, V25, P434, DOI 10.1016/S0891-5849(98)00092-6\\n   Xiong L, 2016, ENVIRON MICROBIOL, V19, P1266\\n   YOO JS, 2016, SCI REP, V6\\n   Yuki ET, 2008, BIOCHEMISTRY-US, V47, P13084, DOI 10.1021/bi801342x\\n   Zhang B, 2012, P NATL ACAD SCI USA, V109, P15734, DOI 10.1073/pnas.1208787109\\n   Zhang DL, 2014, FRONT PHARMACOL, V5, DOI 10.3389/fphar.2014.00124\\nNR 187\\nTC 1\\nZ9 1\\nU1 14\\nU2 30\\nPU MARY ANN LIEBERT, INC\\nPI NEW ROCHELLE\\nPA 140 HUGUENOT STREET, 3RD FL, NEW ROCHELLE, NY 10801 USA\\nSN 1523-0864\\nEI 1557-7716\\nJ9 ANTIOXID REDOX SIGN\\nJI Antioxid. Redox Signal.\\nPD DEC\\nPY 2018\\nVL 29\\nIS 18\\nBP 1809\\nEP 1829\\nDI 10.1089/ars.2017.7361\\nEA NOV\\nEY 2017\\nPG 21\\nWC Biochemistry & Molecular Biology; Endocrinology & Metabolism\\nSC Biochemistry & Molecular Biology; Endocrinology & Metabolism\\nGA GZ0KX\\nUT WOS:000414630900001\\nPM 28967283\\nDA 2018-12-27\\nER',\n",
       "  'retracted_year': None,\n",
       "  'citation_history': None}}"
      ]
     },
     "execution_count": 6,
     "metadata": {},
     "output_type": "execute_result"
    }
   ],
   "source": [
    "paper_table.head(1)"
   ]
  },
  {
   "cell_type": "code",
   "execution_count": null,
   "metadata": {},
   "outputs": [],
   "source": []
  }
 ],
 "metadata": {
  "kernelspec": {
   "display_name": "Python 3",
   "language": "python",
   "name": "python3"
  },
  "language_info": {
   "codemirror_mode": {
    "name": "ipython",
    "version": 3
   },
   "file_extension": ".py",
   "mimetype": "text/x-python",
   "name": "python",
   "nbconvert_exporter": "python",
   "pygments_lexer": "ipython3",
   "version": "3.7.2"
  }
 },
 "nbformat": 4,
 "nbformat_minor": 2
}
